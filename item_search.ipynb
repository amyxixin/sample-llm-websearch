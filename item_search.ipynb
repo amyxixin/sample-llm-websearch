{
 "cells": [
  {
   "cell_type": "code",
   "execution_count": null,
   "metadata": {},
   "outputs": [
    {
     "name": "stdout",
     "output_type": "stream",
     "text": [
      "Note: you may need to restart the kernel to use updated packages.\n"
     ]
    }
   ],
   "source": []
  },
  {
   "cell_type": "code",
   "execution_count": 43,
   "metadata": {},
   "outputs": [],
   "source": [
    "import json"
   ]
  },
  {
   "cell_type": "code",
   "execution_count": 38,
   "metadata": {},
   "outputs": [
    {
     "name": "stderr",
     "output_type": "stream",
     "text": [
      "Fetching pages: 100%|##########| 2/2 [00:00<00:00,  3.13it/s]\n"
     ]
    }
   ],
   "source": [
    "from langchain_community.document_loaders import AsyncHtmlLoader\n",
    "\n",
    "urls = [\"https://www.justnsnparts.com/rfq/3m-purification-inc/4330012137798/12838-21-50-0015/\", \"https://www.ebay.com/itm/312574229877\"]\n",
    "loader = AsyncHtmlLoader(urls)\n",
    "docs = loader.load()"
   ]
  },
  {
   "cell_type": "code",
   "execution_count": 19,
   "metadata": {},
   "outputs": [],
   "source": [
    "import os\n",
    "from dotenv import load_dotenv\n",
    "from openai import AzureOpenAI\n",
    "\n",
    "load_dotenv()\n",
    "AOAI_ENDPOINT = os.getenv(\"AOAI_ENDPOINT\")\n",
    "AOAI_KEY = os.getenv(\"AOAI_KEY\")\n",
    "client = AzureOpenAI(  \n",
    "    azure_endpoint=os.getenv('AOAI_ENDPOINT'),  \n",
    "    api_key=os.getenv('AOAI_KEY'),  \n",
    "    api_version=\"2024-05-01-preview\",\n",
    ")"
   ]
  },
  {
   "cell_type": "code",
   "execution_count": 42,
   "metadata": {},
   "outputs": [],
   "source": [
    "with open('/home/xinlinjing/Repos/researcher/prompts/extract_item_info_sys.prompt', 'r') as file:\n",
    "    EXTRACT_ITM_SYS_PROMPT = file.read()\n",
    "with open('/home/xinlinjing/Repos/researcher/prompts/compare_items_sys.prompt', 'r') as file:\n",
    "    COMPARE_ITM_SYS_PROMPT = file.read()"
   ]
  },
  {
   "cell_type": "code",
   "execution_count": null,
   "metadata": {},
   "outputs": [],
   "source": [
    "from langchain_community.document_transformers import Html2TextTransformer\n",
    "html2text = Html2TextTransformer()\n",
    "docs_transformed = html2text.transform_documents(docs)"
   ]
  },
  {
   "cell_type": "code",
   "execution_count": 48,
   "metadata": {},
   "outputs": [],
   "source": [
    "def get_item_info(url, doc):\n",
    "    #Prepare the chat prompt \n",
    "    messages = [\n",
    "        {\n",
    "            \"role\": \"system\",\n",
    "            \"content\": [\n",
    "                {\n",
    "                    \"type\": \"text\",\n",
    "                    \"text\": EXTRACT_ITM_SYS_PROMPT\n",
    "                }\n",
    "            ]\n",
    "        }\n",
    "    ]\n",
    "    messages.append(\n",
    "        {\n",
    "            \"role\": \"user\",\n",
    "            \"content\": [\n",
    "                {\n",
    "                    \"type\": \"text\",\n",
    "                    \"text\": \"The following information is extracted from the website: \" + url + \":\\n\" + doc.page_content\n",
    "                }\n",
    "            ]\n",
    "        }\n",
    "    ) \n",
    "        \n",
    "    # Generate the completion  \n",
    "    completion = client.chat.completions.create(  \n",
    "        model=\"gpt-4o\",\n",
    "        messages=messages,\n",
    "        max_tokens=800,  \n",
    "        temperature=0.7,  \n",
    "        top_p=0.95,  \n",
    "        frequency_penalty=0,  \n",
    "        presence_penalty=0,\n",
    "        stop=None,  \n",
    "        stream=False,\n",
    "        response_format={ \"type\": \"json_object\" }\n",
    "    )\n",
    "    # print the model response\n",
    "    response = completion.choices[0].message.content\n",
    "    # print(response)\n",
    "    return response\n",
    "def get_llm_response(item_infos, user_query):\n",
    "    #Prepare the chat prompt \n",
    "    messages = [\n",
    "        {\n",
    "            \"role\": \"system\",\n",
    "            \"content\": [\n",
    "                {\n",
    "                    \"type\": \"text\",\n",
    "                    \"text\": COMPARE_ITM_SYS_PROMPT\n",
    "                }\n",
    "            ]\n",
    "        }\n",
    "    ]\n",
    "    messages.append(\n",
    "        {\n",
    "            \"role\": \"user\",\n",
    "            \"content\": [\n",
    "                {\n",
    "                    \"type\": \"text\",\n",
    "                    \"text\": \"The user asks: \" + user_query + \"The following information is extracted: \" + json.dumps(item_infos)\n",
    "                }\n",
    "            ]\n",
    "        }\n",
    "    ) \n",
    "        \n",
    "    # Generate the completion  \n",
    "    completion = client.chat.completions.create(  \n",
    "        model=\"gpt-4o\",\n",
    "        messages=messages,\n",
    "        max_tokens=800,  \n",
    "        temperature=0.7,  \n",
    "        top_p=0.95,  \n",
    "        frequency_penalty=0,  \n",
    "        presence_penalty=0,\n",
    "        stop=None,  \n",
    "        stream=False,\n",
    "    )\n",
    "    # print the model response\n",
    "    response = completion.choices[0].message.content\n",
    "    return response"
   ]
  },
  {
   "cell_type": "code",
   "execution_count": 40,
   "metadata": {},
   "outputs": [
    {
     "name": "stdout",
     "output_type": "stream",
     "text": [
      "{\n",
      "  \"URL\": \"https://www.justnsnparts.com/rfq/3m-purification-inc/4330012137798/12838-21-50-0015/\",\n",
      "  \"Company\": \"3M Purification Inc\",\n",
      "  \"Price\": null,\n",
      "  \"Dimensions\": null,\n",
      "  \"Item Description\": \"The 12838-21-50-0015 is a filter fluid part manufactured by 3M Purification Inc, available for immediate shipping.\"\n",
      "}\n",
      "\n",
      "{\n",
      "  \"URL\": \"https://www.ebay.com/itm/312574229877\",\n",
      "  \"Company\": \"AMF\",\n",
      "  \"Price\": 90.66,\n",
      "  \"Dimensions\": null,\n",
      "  \"Item Description\": \"The AMF 12838-21-50-0015 Pneumatic Filter is a used 1\\\" NPT filter with a 125 PSI capacity.\"\n",
      "}\n"
     ]
    }
   ],
   "source": [
    "item_infos = []\n",
    "for url, doc in zip(urls, docs_transformed):\n",
    "    item_info = get_item_info(url, doc)\n",
    "    item_infos.append(item_info)\n",
    "    print(item_info)"
   ]
  },
  {
   "cell_type": "code",
   "execution_count": 49,
   "metadata": {},
   "outputs": [
    {
     "name": "stdout",
     "output_type": "stream",
     "text": [
      "Here's a comparison table based on the provided information:\n",
      "\n",
      "| URL                                                               | Company             | Price  | Dimensions | Item Description                                                                                   |\n",
      "|-------------------------------------------------------------------|---------------------|--------|------------|---------------------------------------------------------------------------------------------------|\n",
      "| [Just NSN Parts](https://www.justnsnparts.com/rfq/3m-purification-inc/4330012137798/12838-21-50-0015/) | 3M Purification Inc | Null   | Null       | The 12838-21-50-0015 is a filter fluid part manufactured by 3M Purification Inc, available for immediate shipping. |\n",
      "| [eBay](https://www.ebay.com/itm/312574229877)                     | AMF                 | 90.66  | Null       | The AMF 12838-21-50-0015 Pneumatic Filter is a used 1\" NPT filter with a 125 PSI capacity.                        |\n",
      "\n",
      "### Recommendation:\n",
      "\n",
      "**For a new part:**  \n",
      "- **3M Purification Inc** seems to be the option to consider since their product is described as a \"filter fluid part manufactured by 3M Purification Inc, available for immediate shipping.\" However, the price and dimensions are not provided, so further inquiry may be necessary to confirm it meets your specifications.\n",
      "\n",
      "**For a used part with known pricing:**  \n",
      "- **AMF** on eBay is a viable option if you're looking for a cost-effective solution ($90.66) and do not mind purchasing a used part. It is specified as a \"1\\\" NPT filter with a 125 PSI capacity,\" although it does not include the specific dimensions or spacing.\n",
      "\n",
      "### Meeting Requirements:\n",
      "- If the requirement is for a new part with potentially immediate availability, 3M Purification Inc could be the choice, but you would need to confirm the specific dimensions and spacing.\n",
      "- If the budget is a primary concern and a used item is acceptable, then the AMF option on eBay offers a clear price point. Again, ensure it meets your full specification needs by verifying dimensions and spacing.\n"
     ]
    }
   ],
   "source": [
    "user_query = \"FILTER-STRAINER, STEEL ELEMENT, MODEL EGS, 5' LONG, 0.0015' SPACING  AMF CUNO INC  12838-21-50-0015\"\n",
    "llm_response = get_llm_response(item_infos, user_query)\n",
    "print(llm_response)"
   ]
  },
  {
   "cell_type": "code",
   "execution_count": null,
   "metadata": {},
   "outputs": [],
   "source": []
  }
 ],
 "metadata": {
  "kernelspec": {
   "display_name": "base",
   "language": "python",
   "name": "python3"
  },
  "language_info": {
   "codemirror_mode": {
    "name": "ipython",
    "version": 3
   },
   "file_extension": ".py",
   "mimetype": "text/x-python",
   "name": "python",
   "nbconvert_exporter": "python",
   "pygments_lexer": "ipython3",
   "version": "3.12.2"
  }
 },
 "nbformat": 4,
 "nbformat_minor": 2
}
